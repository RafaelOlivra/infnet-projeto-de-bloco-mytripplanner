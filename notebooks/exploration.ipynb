{
 "cells": [
  {
   "cell_type": "code",
   "execution_count": 7,
   "metadata": {},
   "outputs": [],
   "source": [
    "from bs4 import BeautifulSoup as bs\n",
    "import requests\n",
    "\n",
    "headers = {\n",
    "    \"User-Agent\": \"Mozilla/5.0 (Windows NT 10.0; Win64; x64) AppleWebKit/537.36 (KHTML, like Gecko) Chrome/58.0.3029.110 Safari/537.3\"\n",
    "}\n",
    "\n",
    "\n",
    "yelp_html = requests.get(\n",
    "    \"https://www.yelp.com.br/search?find_desc=&find_loc=s%C3%A3o+paulo%2C+s%C3%A3o+paulo\",\n",
    "    headers=headers,\n",
    ").text"
   ]
  },
  {
   "cell_type": "code",
   "execution_count": 8,
   "metadata": {},
   "outputs": [],
   "source": [
    "soup = bs(yelp_html, \"html.parser\")"
   ]
  },
  {
   "cell_type": "code",
   "execution_count": 9,
   "metadata": {},
   "outputs": [
    {
     "data": {
      "text/plain": [
       "[{'name': 'Figueira Rubaiyat',\n",
       "  'url': 'https://www.yelp.com/biz/figueira-rubaiyat-s%C3%A3o-paulo-2',\n",
       "  'review_count': '153',\n",
       "  'review_stars': 4.3,\n",
       "  'description': '',\n",
       "  'image': 'https://s3-media0.fl.yelpcdn.com/bphoto/Yf4_mQB9AylqsbB2tn3dHg/348s.jpg'},\n",
       " {'name': 'D.O.M.',\n",
       "  'url': 'https://www.yelp.com/biz/d-o-m-s%C3%A3o-paulo-2',\n",
       "  'review_count': '114',\n",
       "  'review_stars': 4.4,\n",
       "  'description': '',\n",
       "  'image': 'https://s3-media0.fl.yelpcdn.com/bphoto/sx7Po1hK8dy9mz1EvZ3GGA/348s.jpg'},\n",
       " {'name': 'Skye Bar & Restaurante',\n",
       "  'url': 'https://www.yelp.com/biz/skye-bar-e-restaurante-s%C3%A3o-paulo',\n",
       "  'review_count': '68',\n",
       "  'review_stars': 4.4,\n",
       "  'description': '',\n",
       "  'image': 'https://s3-media0.fl.yelpcdn.com/bphoto/VGGN_e1dC8EoaORps4rCRA/348s.jpg'},\n",
       " {'name': 'Famiglia Mancini',\n",
       "  'url': 'https://www.yelp.com/biz/famiglia-mancini-s%C3%A3o-paulo-2',\n",
       "  'review_count': '42',\n",
       "  'review_stars': 4.3,\n",
       "  'description': '',\n",
       "  'image': 'https://s3-media0.fl.yelpcdn.com/bphoto/7n_CQ4IV7JE_MqCEmEy_lQ/348s.jpg'},\n",
       " {'name': 'Mestiço',\n",
       "  'url': 'https://www.yelp.com/biz/mesti%C3%A7o-s%C3%A3o-paulo-2',\n",
       "  'review_count': '30',\n",
       "  'review_stars': 4.4,\n",
       "  'description': '',\n",
       "  'image': 'https://s3-media0.fl.yelpcdn.com/bphoto/MSHhK0bArPuusOoFCgI6Aw/348s.jpg'},\n",
       " {'name': 'Micaela',\n",
       "  'url': 'https://www.yelp.com/biz/micaela-s%C3%A3o-paulo',\n",
       "  'review_count': '23',\n",
       "  'review_stars': 4.5,\n",
       "  'description': '',\n",
       "  'image': 'https://s3-media0.fl.yelpcdn.com/bphoto/Ro8vKYt-4EK--aRimMDr0w/348s.jpg'},\n",
       " {'name': 'Barbacoa',\n",
       "  'url': 'https://www.yelp.com/biz/barbacoa-s%C3%A3o-paulo',\n",
       "  'review_count': '45',\n",
       "  'review_stars': 4.4,\n",
       "  'description': '',\n",
       "  'image': 'https://s3-media0.fl.yelpcdn.com/bphoto/0z2_u9Q9EYdUOsj58Sj_OQ/348s.jpg'},\n",
       " {'name': 'Maní',\n",
       "  'url': 'https://www.yelp.com/biz/man%C3%AD-s%C3%A3o-paulo-2',\n",
       "  'review_count': '68',\n",
       "  'review_stars': 4.3,\n",
       "  'description': '',\n",
       "  'image': 'https://s3-media0.fl.yelpcdn.com/bphoto/l5b7dR2Yn16y8xRGxbPByg/348s.jpg'},\n",
       " {'name': 'Mocotó Bar e Restaurante',\n",
       "  'url': 'https://www.yelp.com/biz/mocot%C3%B3-bar-e-restaurante-s%C3%A3o-paulo',\n",
       "  'review_count': '78',\n",
       "  'review_stars': 4.7,\n",
       "  'description': '',\n",
       "  'image': 'https://s3-media0.fl.yelpcdn.com/bphoto/bbvgJwQYcMnoHPwhR71oZA/348s.jpg'},\n",
       " {'name': 'A Casa do Porco Bar',\n",
       "  'url': 'https://www.yelp.com/biz/a-casa-do-porco-bar-s%C3%A3o-paulo',\n",
       "  'review_count': '83',\n",
       "  'review_stars': 4.5,\n",
       "  'description': '',\n",
       "  'image': 'https://s3-media0.fl.yelpcdn.com/bphoto/gQMZMC5tBx2AFZZDzM2hQQ/348s.jpg'}]"
      ]
     },
     "execution_count": 9,
     "metadata": {},
     "output_type": "execute_result"
    }
   ],
   "source": [
    "attractions = soup.select('li div[data-testid=\"serp-ia-card\"]')\n",
    "# attractions = soup.select('a[href^=\"/biz/\"]:has(img)')\n",
    "\n",
    "cards = []\n",
    "for attraction in attractions:\n",
    "    anchor = attraction.select_one('a[href^=\"/biz/\"]:has(img)')\n",
    "    # Review are inside a font element with text (x reviews)\n",
    "    reviews = attraction.select(\"span\")\n",
    "    review_text = \"Sem avaliações\"\n",
    "    review_stars = -1\n",
    "    for review in reviews:\n",
    "        if \" reviews)\" in review.text:\n",
    "            review_text = review.text.replace(\" reviews)\", \"\").replace(\"(\", \"\")\n",
    "            review_stars = 0\n",
    "            review_stars = float(review.previous_sibling.text)\n",
    "            if review_stars > 5 or review_stars < 0:\n",
    "                review_stars = -1\n",
    "\n",
    "    card = {\n",
    "        \"name\": anchor.select_one(\"img\")[\"alt\"],\n",
    "        \"url\": f\"https://www.yelp.com{anchor['href']}\",\n",
    "        \"review_count\": review_text,\n",
    "        \"review_stars\": review_stars,\n",
    "        \"description\": \"\",\n",
    "        \"image\": anchor.select_one(\"img\")[\"src\"],\n",
    "    }\n",
    "    cards.append(card)\n",
    "\n",
    "cards"
   ]
  }
 ],
 "metadata": {
  "kernelspec": {
   "display_name": ".venv",
   "language": "python",
   "name": "python3"
  },
  "language_info": {
   "codemirror_mode": {
    "name": "ipython",
    "version": 3
   },
   "file_extension": ".py",
   "mimetype": "text/x-python",
   "name": "python",
   "nbconvert_exporter": "python",
   "pygments_lexer": "ipython3",
   "version": "3.12.7"
  }
 },
 "nbformat": 4,
 "nbformat_minor": 2
}
